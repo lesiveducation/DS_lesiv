{
 "cells": [
  {
   "cell_type": "code",
   "execution_count": 1,
   "id": "98ac11e2",
   "metadata": {},
   "outputs": [
    {
     "name": "stdout",
     "output_type": "stream",
     "text": [
      "False\n"
     ]
    }
   ],
   "source": [
    "number = 2.5\n",
    "print(number.is_integer())\n"
   ]
  },
  {
   "cell_type": "code",
   "execution_count": 2,
   "id": "5ded1be0",
   "metadata": {},
   "outputs": [
    {
     "name": "stdout",
     "output_type": "stream",
     "text": [
      "(5, 2)\n"
     ]
    }
   ],
   "source": [
    "print(number.as_integer_ratio())"
   ]
  },
  {
   "cell_type": "code",
   "execution_count": 3,
   "id": "406fb772",
   "metadata": {},
   "outputs": [
    {
     "name": "stdout",
     "output_type": "stream",
     "text": [
      "2\n"
     ]
    }
   ],
   "source": [
    "people = ['Vasiliy', 'Stanislav', 'Alexandra', 'Vasiliy']\n",
    "print(people.count('Vasiliy'))"
   ]
  },
  {
   "cell_type": "code",
   "execution_count": 6,
   "id": "846d68ab",
   "metadata": {},
   "outputs": [
    {
     "name": "stdout",
     "output_type": "stream",
     "text": [
      "Total amount: 10\n",
      "Total amount: 20\n",
      "Total amount: 10\n",
      "Total amount: 20\n",
      "Total sales: 40000\n"
     ]
    }
   ],
   "source": [
    "class SalesReport():\n",
    "    pass\n",
    "\n",
    "report = SalesReport()\n",
    "report.amount = 10\n",
    "report_2 = SalesReport()\n",
    "report_2.amount = 20\n",
    "def print_report(report):\n",
    "    print('Total amount:', report.amount)\n",
    "    \n",
    "print_report(report)\n",
    "print_report(report_2)\n",
    "\n",
    "class SalesReport():\n",
    "    def print_report(self):\n",
    "        print('Total amount:', self.amount)\n",
    "        \n",
    "report = SalesReport()\n",
    "report.amount = 10\n",
    "report_2 = SalesReport()\n",
    "report_2.amount = 20\n",
    "\n",
    "report.print_report()\n",
    "report_2.print_report()\n",
    "\n",
    "class SalesReport():\n",
    "    def add_deal(self, amount):\n",
    "        if not hasattr(self, 'deals'):\n",
    "            self.deals = []\n",
    "        self.deals.append(amount)\n",
    "        \n",
    "    def total_amount(self):\n",
    "        return sum(self.deals)\n",
    "\n",
    "    def print_report(self):\n",
    "        print('Total sales:', self.total_amount())\n",
    "    \n",
    "report = SalesReport()\n",
    "report.add_deal(10_000)\n",
    "report.add_deal(30_000)\n",
    "report.print_report()"
   ]
  },
  {
   "cell_type": "code",
   "execution_count": 8,
   "id": "8ad71605",
   "metadata": {},
   "outputs": [
    {
     "name": "stdout",
     "output_type": "stream",
     "text": [
      "Average revenue: 20000.0\n"
     ]
    }
   ],
   "source": [
    "class DepartmentReport():\n",
    "\n",
    "    def add_revenues(self, amount):\n",
    "        if not hasattr(self, 'revenues'):\n",
    "            self.revenues = []\n",
    "        self.revenues.append(amount)\n",
    "        \n",
    "    def average_revenues(self):\n",
    "        return sum(self.revenues)/len(self.revenues)\n",
    "    \n",
    "    \n",
    "    def print_report(self):\n",
    "        print('Average revenue:', self.average_revenues())\n",
    "\n",
    "    \n",
    "report = DepartmentReport()\n",
    "report.add_revenues(10_000)\n",
    "report.add_revenues(30_000)\n",
    "report.print_report()"
   ]
  },
  {
   "cell_type": "code",
   "execution_count": 28,
   "id": "a04aedf2",
   "metadata": {},
   "outputs": [
    {
     "name": "stdout",
     "output_type": "stream",
     "text": [
      "Average department revenue for 123: 350.0\n"
     ]
    }
   ],
   "source": [
    "class DepartmentReport():\n",
    "    def __init__(self, company_name):\n",
    "        self.revenues = []\n",
    "        self.company = company_name\n",
    "    def add_revenue(self, amount):\n",
    "        if not hasattr(self, 'revenues'):\n",
    "            self.revenues = []\n",
    "        self.revenues.append(amount)\n",
    "    def average_revenue(self):\n",
    "        avg_rev = sum(self.revenues)/len(self.revenues)\n",
    "        return 'Average department revenue for {}: {}'.format(self.company, avg_rev)\n",
    "        \n",
    "    #def print_report(self):\n",
    "        #print(\"Company name:\", self.company)\n",
    "        #print('Average revenue:', self.average_revenue)\n",
    "\n",
    "        \n",
    "rep = DepartmentReport(company_name = '123')\n",
    "rep.add_revenue(100)\n",
    "rep.add_revenue(600)\n",
    "print(rep.average_revenue())"
   ]
  },
  {
   "cell_type": "code",
   "execution_count": 9,
   "id": "779d5559",
   "metadata": {},
   "outputs": [
    {
     "name": "stdout",
     "output_type": "stream",
     "text": [
      "True\n",
      "11200\n"
     ]
    }
   ],
   "source": [
    "class User:\n",
    "    def __init__(self, email, password, balance):\n",
    "        self.email = email\n",
    "        self.password = password\n",
    "        self.balance = balance\n",
    "    def login(self, email, password):\n",
    "        if self.email == email and self.password == password:\n",
    "            answer = True\n",
    "        else:\n",
    "            answer = False\n",
    "        return answer\n",
    "    def update_balance(self, amount):\n",
    "        self.balance += amount\n",
    "        return self.balance\n",
    "\n",
    "user = User('312@21.ru', 'pass', 10000)\n",
    "print(user.login('312@21.ru', 'pass'))\n",
    "user.update_balance(200)\n",
    "user.update_balance(1000)\n",
    "print(user.balance)    \n",
    "    "
   ]
  },
  {
   "cell_type": "code",
   "execution_count": null,
   "id": "fc01bd02",
   "metadata": {},
   "outputs": [],
   "source": []
  },
  {
   "cell_type": "code",
   "execution_count": null,
   "id": "e5522015",
   "metadata": {},
   "outputs": [],
   "source": []
  },
  {
   "cell_type": "code",
   "execution_count": null,
   "id": "3e2bbdfd",
   "metadata": {},
   "outputs": [],
   "source": []
  },
  {
   "cell_type": "code",
   "execution_count": null,
   "id": "382db243",
   "metadata": {},
   "outputs": [],
   "source": []
  },
  {
   "cell_type": "code",
   "execution_count": null,
   "id": "204691f2",
   "metadata": {},
   "outputs": [],
   "source": []
  },
  {
   "cell_type": "code",
   "execution_count": null,
   "id": "0ca8598a",
   "metadata": {},
   "outputs": [],
   "source": []
  },
  {
   "cell_type": "code",
   "execution_count": null,
   "id": "66c54135",
   "metadata": {},
   "outputs": [],
   "source": []
  },
  {
   "cell_type": "code",
   "execution_count": null,
   "id": "4d055a6c",
   "metadata": {},
   "outputs": [],
   "source": []
  },
  {
   "cell_type": "code",
   "execution_count": null,
   "id": "aa43b8da",
   "metadata": {},
   "outputs": [],
   "source": []
  },
  {
   "cell_type": "code",
   "execution_count": null,
   "id": "347bf090",
   "metadata": {},
   "outputs": [],
   "source": []
  }
 ],
 "metadata": {
  "kernelspec": {
   "display_name": "Python 3",
   "language": "python",
   "name": "python3"
  },
  "language_info": {
   "codemirror_mode": {
    "name": "ipython",
    "version": 3
   },
   "file_extension": ".py",
   "mimetype": "text/x-python",
   "name": "python",
   "nbconvert_exporter": "python",
   "pygments_lexer": "ipython3",
   "version": "3.13.5"
  }
 },
 "nbformat": 4,
 "nbformat_minor": 5
}
