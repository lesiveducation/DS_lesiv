{
 "cells": [
  {
   "cell_type": "code",
   "execution_count": null,
   "id": "ec2569cc",
   "metadata": {},
   "outputs": [],
   "source": [
    "import pandas as pd\n",
    "import numpy as np\n",
    "import matplotlib.pyplot as plt\n",
    "import seaborn as sns\n",
    "\n",
    "df = pd.read_csv('test_data.csv')\n",
    "thesh = df.shape[0]*0.5\n",
    "df = df.dropna(thresh=thesh, axis=1)\n",
    "df = df.dropna(thresh=3, axis=0)\n",
    "values = {\n",
    "    'one': df['one'].median(),\n",
    "    'two': df['two'].median(),\n",
    "    'three': df['three'].median(),\n",
    "    'four': df['four'].mode(),\n",
    "    'five': df['five'].mode()[0],\n",
    "}\n",
    "#заполняем пропуски в соответствии с заявленным словарем\n",
    "df = df.fillna(values)\n",
    "\n",
    "df = df.fillna({\n",
    "    'one': df['one'].mean(),\n",
    "    'two': df['two'].mean(),\n",
    "    'four': df['four'].mode()[0]})"
   ]
  }
 ],
 "metadata": {
  "language_info": {
   "name": "python"
  }
 },
 "nbformat": 4,
 "nbformat_minor": 5
}
